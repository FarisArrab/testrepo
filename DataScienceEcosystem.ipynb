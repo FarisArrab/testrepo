{
 "cells": [
  {
   "cell_type": "markdown",
   "id": "6771b704",
   "metadata": {},
   "source": [
    "# Data Science Tools and Ecosystem"
   ]
  },
  {
   "cell_type": "markdown",
   "id": "e2f5675e",
   "metadata": {},
   "source": [
    "## In this notebook, Data Science Tools and Ecosystem are summarized"
   ]
  },
  {
   "cell_type": "markdown",
   "id": "0df18e48",
   "metadata": {},
   "source": [
    "## Objectives:\n",
    "- Overview of Data Science Tools\n",
    "- learn about languages of Data Science\n",
    "- learn about Packages, APIs, Datasets and Models\n",
    "- learn about Jupyter Notebooks and JupyterLab\n",
    "- learn about RStudio & GitHub\n"
   ]
  },
  {
   "cell_type": "markdown",
   "id": "996a46d2",
   "metadata": {},
   "source": [
    "### Some of the popular languages that Data Scientists use are:\n",
    "#### 1- Python \n",
    "#### 2- R\n",
    "#### 3- SQL "
   ]
  },
  {
   "cell_type": "markdown",
   "id": "d015e2d8",
   "metadata": {},
   "source": [
    "### Some of the commonly used libraries used by Data Scientists include:\n",
    "#### 1- NumPy\n",
    "#### 2- Pandas\n",
    "#### 3- Matplotlib\n",
    "#### 4- scikit-learn\n",
    "#### 5- TensorFlow\n",
    "#### 6- Keras\n",
    "#### 7- PyTorch\n"
   ]
  },
  {
   "cell_type": "markdown",
   "id": "bf0d5a02",
   "metadata": {},
   "source": [
    "### Data Science Tools\n",
    "| Data Science Tools |\n",
    "| -------------------|\n",
    "|    Jupyter Lab     |\n",
    "|    Wotson studio   |\n",
    "|    Google Colab    |"
   ]
  },
  {
   "cell_type": "markdown",
   "id": "7a445cff",
   "metadata": {},
   "source": [
    "### Below are a few examples of evaluating arithmetic expressions in Python\n",
    "### (+ ) operator is used for addition\n",
    "### ( - ) operator is used for subtraction\n",
    "### ( * ) operator is used for multiplication\n",
    "### ( / )  operator is used for"
   ]
  },
  {
   "cell_type": "code",
   "execution_count": 1,
   "id": "307c77dd",
   "metadata": {},
   "outputs": [
    {
     "data": {
      "text/plain": [
       "17"
      ]
     },
     "execution_count": 1,
     "metadata": {},
     "output_type": "execute_result"
    }
   ],
   "source": [
    "# This a simple arithmetic expression to mutiply then add integers\n",
    "(3*4)+5"
   ]
  },
  {
   "cell_type": "code",
   "execution_count": 3,
   "id": "c5878ae1",
   "metadata": {},
   "outputs": [
    {
     "data": {
      "text/plain": [
       "3.3333333333333335"
      ]
     },
     "execution_count": 3,
     "metadata": {},
     "output_type": "execute_result"
    }
   ],
   "source": [
    "#This will convert 200 minutes to hours by diving by 60\n",
    "200/60"
   ]
  },
  {
   "cell_type": "markdown",
   "id": "187a475c",
   "metadata": {},
   "source": [
    "## Author\n",
    "\n",
    "#### Lakshmi Holla\n",
    "\n",
    "#### Niveditha Pandith"
   ]
  },
  {
   "cell_type": "code",
   "execution_count": null,
   "id": "85fbddf8",
   "metadata": {},
   "outputs": [],
   "source": []
  }
 ],
 "metadata": {
  "kernelspec": {
   "display_name": "Python 3 (ipykernel)",
   "language": "python",
   "name": "python3"
  },
  "language_info": {
   "codemirror_mode": {
    "name": "ipython",
    "version": 3
   },
   "file_extension": ".py",
   "mimetype": "text/x-python",
   "name": "python",
   "nbconvert_exporter": "python",
   "pygments_lexer": "ipython3",
   "version": "3.11.3"
  }
 },
 "nbformat": 4,
 "nbformat_minor": 5
}
